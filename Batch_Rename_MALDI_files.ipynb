{
 "cells": [
  {
   "cell_type": "code",
   "execution_count": 1,
   "id": "59b4de4a",
   "metadata": {},
   "outputs": [],
   "source": [
    "import os\n",
    "\n",
    "\n",
    "import shutil\n",
    "\n"
   ]
  },
  {
   "cell_type": "code",
   "execution_count": null,
   "id": "93d0d934",
   "metadata": {},
   "outputs": [],
   "source": [
    "# This code will make changes in your computer's folder so make sure you first copy all your files to a new folder\n",
    "\n",
    "# Set the folder path where the files are located\n",
    "folder_path = '/path_to_folder'\n",
    "\n",
    "# Set the base value of the file names\n",
    "base_val = 15209 # Set the number that your sample numbers start from in a row on the spotting plate\n",
    "\n",
    "# Set the columns to skip --> specify where the blanks are or any samples you want to skip\n",
    "skip_cols = [20]\n",
    "\n",
    "# Iterate through the columns (1, 2, 3, etc.)\n",
    "for col in range(1, 25):\n",
    "    if col in skip_cols:\n",
    "        continue\n",
    "    # Set the current file name\n",
    "    current_file_name = os.path.join(folder_path, 'name_of_file_G{}.mzML'.format(col)) #G stands for G row on a MALDI plate -- change to an appropriate value\n",
    "    # Set the new file name\n",
    "    new_file_name = os.path.join(folder_path, 'Letters_before_number(if any){}_G{}.mzML'.format(base_val + col - 1 - len([x for x in skip_cols if x < col]), col)) #Change name of file and G to the right row\n",
    "    # Rename the file\n",
    "    os.rename(current_file_name, new_file_name)\n",
    "\n"
   ]
  }
 ],
 "metadata": {
  "kernelspec": {
   "display_name": "Python 3 (ipykernel)",
   "language": "python",
   "name": "python3"
  },
  "language_info": {
   "codemirror_mode": {
    "name": "ipython",
    "version": 3
   },
   "file_extension": ".py",
   "mimetype": "text/x-python",
   "name": "python",
   "nbconvert_exporter": "python",
   "pygments_lexer": "ipython3",
   "version": "3.10.9"
  }
 },
 "nbformat": 4,
 "nbformat_minor": 5
}
